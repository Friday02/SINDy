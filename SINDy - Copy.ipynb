{
 "cells": [
  {
   "cell_type": "markdown",
   "metadata": {},
   "source": [
    "We will construct a linear model that explains the relationship a car's mileage (mpg) has with its other attributes"
   ]
  },
  {
   "cell_type": "markdown",
   "metadata": {},
   "source": [
    "## Import Libraries"
   ]
  },
  {
   "cell_type": "code",
   "execution_count": 1,
   "metadata": {},
   "outputs": [],
   "source": [
    "import numpy as np   \n",
    "from sklearn.linear_model import LinearRegression\n",
    "import pandas as pd    \n",
    "import matplotlib.pyplot as plt \n",
    "%matplotlib inline \n",
    "import seaborn as sns\n",
    "from sklearn.model_selection import train_test_split # Sklearn package's randomized data splitting function\n",
    "from numpy import asarray\n",
    "from sklearn.preprocessing import StandardScaler"
   ]
  },
  {
   "cell_type": "markdown",
   "metadata": {},
   "source": [
    "## Load and review data"
   ]
  },
  {
   "cell_type": "code",
   "execution_count": 2,
   "metadata": {},
   "outputs": [
    {
     "data": {
      "text/plain": [
       "(153, 15)"
      ]
     },
     "execution_count": 2,
     "metadata": {},
     "output_type": "execute_result"
    }
   ],
   "source": [
    "cData = pd.read_csv(r\"C:\\Users\\Navnit Ashok Nair\\OneDrive\\Desktop\\SINDy\\TBC_data_study_1.csv\")  \n",
    "cData.shape"
   ]
  },
  {
   "cell_type": "code",
   "execution_count": 3,
   "metadata": {},
   "outputs": [
    {
     "data": {
      "text/html": [
       "<div>\n",
       "<style scoped>\n",
       "    .dataframe tbody tr th:only-of-type {\n",
       "        vertical-align: middle;\n",
       "    }\n",
       "\n",
       "    .dataframe tbody tr th {\n",
       "        vertical-align: top;\n",
       "    }\n",
       "\n",
       "    .dataframe thead th {\n",
       "        text-align: right;\n",
       "    }\n",
       "</style>\n",
       "<table border=\"1\" class=\"dataframe\">\n",
       "  <thead>\n",
       "    <tr style=\"text-align: right;\">\n",
       "      <th></th>\n",
       "      <th>NSheets</th>\n",
       "      <th>WidthWater</th>\n",
       "      <th>LengthGraphene</th>\n",
       "      <th>Temperature</th>\n",
       "      <th>Pressure</th>\n",
       "      <th>ContactAngle</th>\n",
       "      <th>SurfaceTension</th>\n",
       "      <th>RelativeDensity</th>\n",
       "      <th>RelativeTBR</th>\n",
       "    </tr>\n",
       "  </thead>\n",
       "  <tbody>\n",
       "    <tr>\n",
       "      <th>0</th>\n",
       "      <td>8</td>\n",
       "      <td>30</td>\n",
       "      <td>60</td>\n",
       "      <td>280</td>\n",
       "      <td>1</td>\n",
       "      <td>120</td>\n",
       "      <td>75.741886</td>\n",
       "      <td>1.487170</td>\n",
       "      <td>1.585502</td>\n",
       "    </tr>\n",
       "    <tr>\n",
       "      <th>1</th>\n",
       "      <td>8</td>\n",
       "      <td>30</td>\n",
       "      <td>60</td>\n",
       "      <td>300</td>\n",
       "      <td>1</td>\n",
       "      <td>130</td>\n",
       "      <td>72.935536</td>\n",
       "      <td>1.548031</td>\n",
       "      <td>1.610285</td>\n",
       "    </tr>\n",
       "    <tr>\n",
       "      <th>2</th>\n",
       "      <td>8</td>\n",
       "      <td>30</td>\n",
       "      <td>60</td>\n",
       "      <td>280</td>\n",
       "      <td>1</td>\n",
       "      <td>130</td>\n",
       "      <td>75.741886</td>\n",
       "      <td>1.569903</td>\n",
       "      <td>1.818463</td>\n",
       "    </tr>\n",
       "    <tr>\n",
       "      <th>3</th>\n",
       "      <td>8</td>\n",
       "      <td>30</td>\n",
       "      <td>60</td>\n",
       "      <td>360</td>\n",
       "      <td>1</td>\n",
       "      <td>130</td>\n",
       "      <td>63.308599</td>\n",
       "      <td>1.598603</td>\n",
       "      <td>1.569393</td>\n",
       "    </tr>\n",
       "    <tr>\n",
       "      <th>4</th>\n",
       "      <td>8</td>\n",
       "      <td>30</td>\n",
       "      <td>60</td>\n",
       "      <td>340</td>\n",
       "      <td>1</td>\n",
       "      <td>120</td>\n",
       "      <td>66.709466</td>\n",
       "      <td>1.599308</td>\n",
       "      <td>1.339219</td>\n",
       "    </tr>\n",
       "  </tbody>\n",
       "</table>\n",
       "</div>"
      ],
      "text/plain": [
       "   NSheets  WidthWater  LengthGraphene  Temperature  Pressure  ContactAngle  \\\n",
       "0        8          30              60          280         1           120   \n",
       "1        8          30              60          300         1           130   \n",
       "2        8          30              60          280         1           130   \n",
       "3        8          30              60          360         1           130   \n",
       "4        8          30              60          340         1           120   \n",
       "\n",
       "   SurfaceTension  RelativeDensity  RelativeTBR  \n",
       "0       75.741886         1.487170     1.585502  \n",
       "1       72.935536         1.548031     1.610285  \n",
       "2       75.741886         1.569903     1.818463  \n",
       "3       63.308599         1.598603     1.569393  \n",
       "4       66.709466         1.599308     1.339219  "
      ]
     },
     "execution_count": 3,
     "metadata": {},
     "output_type": "execute_result"
    }
   ],
   "source": [
    "cData=cData.drop(['Unnamed: 0','std_rho','std_R','RelativeDessityError','RelativeTBCError','dT'],axis=1)\n",
    "cData.head()"
   ]
  },
  {
   "cell_type": "code",
   "execution_count": 4,
   "metadata": {},
   "outputs": [
    {
     "data": {
      "text/plain": [
       "[2, 4, 8, 12, 18, 28, 38]"
      ]
     },
     "execution_count": 4,
     "metadata": {},
     "output_type": "execute_result"
    }
   ],
   "source": [
    "n=cData['NSheets'].unique().tolist()\n",
    "#n=n.sort()\n",
    "n.sort()\n",
    "n"
   ]
  },
  {
   "cell_type": "code",
   "execution_count": 6,
   "metadata": {},
   "outputs": [
    {
     "name": "stdout",
     "output_type": "stream",
     "text": [
      "TRAINING : DEGREE TWO _ 2 _ 0.9876417484411296\n",
      "TEST : DEGREE TWO _  2 _ -2.584715927082704\n",
      "TRAINING : DEGREE TWO _ 4 _ 0.7849261475321893\n",
      "TEST : DEGREE TWO _  4 _ -0.20173958681976312\n",
      "TRAINING : DEGREE TWO _ 8 _ 0.9580498355260544\n",
      "TEST : DEGREE TWO _  8 _ 0.8614448107228697\n",
      "TRAINING : DEGREE TWO _ 12 _ 0.9779360780939168\n",
      "TEST : DEGREE TWO _  12 _ -301.3742033072497\n",
      "TRAINING : DEGREE TWO _ 18 _ 0.982565224059626\n",
      "TEST : DEGREE TWO _  18 _ -0.7923382777985122\n",
      "TRAINING : DEGREE TWO _ 28 _ 0.9508272687918736\n",
      "TEST : DEGREE TWO _  28 _ -2.4581110023490247\n",
      "TRAINING : DEGREE TWO _ 38 _ 0.9823608558913691\n",
      "TEST : DEGREE TWO _  38 _ -6.004372122729321\n",
      "           1  WidthWater  LengthGraphene  Temperature  Pressure  ContactAngle  \\\n",
      "NSheets                                                                         \n",
      "2        0.0    0.017926       -0.020318     0.000000  0.000000      0.000000   \n",
      "4        0.0    0.012171       -0.045412     0.000000  0.000000      0.000000   \n",
      "8        0.0    0.026405       -0.011550    -0.055421 -0.060062      0.304476   \n",
      "12       0.0    0.014693       -0.024165     0.000000  0.000000      0.000000   \n",
      "18       0.0   -0.013630       -0.013982     0.000000 -0.019978      0.099787   \n",
      "28       0.0    0.006628       -0.017974     0.000000  0.000000      0.000000   \n",
      "38       0.0    0.019390       -0.026461     0.000000  0.000000      0.000000   \n",
      "\n",
      "         SurfaceTension  RelativeDensity  WidthWater LengthGraphene  \\\n",
      "NSheets                                                               \n",
      "2              0.000000        -0.032596                   0.011108   \n",
      "4              0.000000        -0.029357                  -0.001056   \n",
      "8              0.052659        -0.089828                   0.001415   \n",
      "12             0.000000        -0.032208                   0.016548   \n",
      "18             0.000000        -0.117484                  -0.012686   \n",
      "28             0.000000        -0.020245                  -0.008240   \n",
      "38             0.000000        -0.021253                   0.006672   \n",
      "\n",
      "         WidthWater Temperature  ...  Temperature Pressure  \\\n",
      "NSheets                          ...                         \n",
      "2                       0.00000  ...              0.000000   \n",
      "4                       0.00000  ...              0.000000   \n",
      "8                      -0.00233  ...             -0.008563   \n",
      "12                      0.00000  ...              0.000000   \n",
      "18                      0.00000  ...              0.000000   \n",
      "28                      0.00000  ...              0.000000   \n",
      "38                      0.00000  ...              0.000000   \n",
      "\n",
      "         Temperature ContactAngle  Temperature SurfaceTension  \\\n",
      "NSheets                                                         \n",
      "2                        0.000000                    0.000000   \n",
      "4                        0.000000                    0.000000   \n",
      "8                        0.035954                   -0.028452   \n",
      "12                       0.000000                    0.000000   \n",
      "18                       0.000000                    0.000000   \n",
      "28                       0.000000                    0.000000   \n",
      "38                       0.000000                    0.000000   \n",
      "\n",
      "         Temperature RelativeDensity  Pressure ContactAngle  \\\n",
      "NSheets                                                       \n",
      "2                           0.000000               0.000000   \n",
      "4                           0.000000               0.000000   \n",
      "8                           0.017328               0.051411   \n",
      "12                          0.000000               0.000000   \n",
      "18                          0.000000              -0.042845   \n",
      "28                          0.000000               0.000000   \n",
      "38                          0.000000               0.000000   \n",
      "\n",
      "         Pressure SurfaceTension  Pressure RelativeDensity  \\\n",
      "NSheets                                                      \n",
      "2                       0.000000                  0.000000   \n",
      "4                       0.000000                  0.000000   \n",
      "8                       0.007683                  0.050150   \n",
      "12                      0.000000                  0.000000   \n",
      "18                      0.000000                  0.021596   \n",
      "28                      0.000000                  0.000000   \n",
      "38                      0.000000                  0.000000   \n",
      "\n",
      "         ContactAngle SurfaceTension  ContactAngle RelativeDensity  \\\n",
      "NSheets                                                              \n",
      "2                           0.000000                      0.000000   \n",
      "4                           0.000000                      0.000000   \n",
      "8                          -0.028019                     -0.092124   \n",
      "12                          0.000000                      0.000000   \n",
      "18                          0.000000                     -0.092755   \n",
      "28                          0.000000                      0.000000   \n",
      "38                          0.000000                      0.000000   \n",
      "\n",
      "         SurfaceTension RelativeDensity  \n",
      "NSheets                                  \n",
      "2                          0.000000e+00  \n",
      "4                         -4.171846e-16  \n",
      "8                         -2.565940e-02  \n",
      "12                         0.000000e+00  \n",
      "18                         0.000000e+00  \n",
      "28                         0.000000e+00  \n",
      "38                         0.000000e+00  \n",
      "\n",
      "[7 rows x 29 columns]\n"
     ]
    },
    {
     "name": "stderr",
     "output_type": "stream",
     "text": [
      "C:\\Users\\Navnit Ashok Nair\\AppData\\Local\\Temp\\ipykernel_16848\\1700664075.py:47: FutureWarning: The frame.append method is deprecated and will be removed from pandas in a future version. Use pandas.concat instead.\n",
      "  df_frame = df_frame.append(lreg_coefficient)\n",
      "C:\\Users\\Navnit Ashok Nair\\AppData\\Local\\Temp\\ipykernel_16848\\1700664075.py:47: FutureWarning: The frame.append method is deprecated and will be removed from pandas in a future version. Use pandas.concat instead.\n",
      "  df_frame = df_frame.append(lreg_coefficient)\n",
      "C:\\Users\\Navnit Ashok Nair\\AppData\\Local\\Temp\\ipykernel_16848\\1700664075.py:47: FutureWarning: The frame.append method is deprecated and will be removed from pandas in a future version. Use pandas.concat instead.\n",
      "  df_frame = df_frame.append(lreg_coefficient)\n",
      "C:\\Users\\Navnit Ashok Nair\\AppData\\Local\\Temp\\ipykernel_16848\\1700664075.py:47: FutureWarning: The frame.append method is deprecated and will be removed from pandas in a future version. Use pandas.concat instead.\n",
      "  df_frame = df_frame.append(lreg_coefficient)\n",
      "C:\\Users\\Navnit Ashok Nair\\AppData\\Local\\Temp\\ipykernel_16848\\1700664075.py:47: FutureWarning: The frame.append method is deprecated and will be removed from pandas in a future version. Use pandas.concat instead.\n",
      "  df_frame = df_frame.append(lreg_coefficient)\n",
      "C:\\Users\\Navnit Ashok Nair\\AppData\\Local\\Temp\\ipykernel_16848\\1700664075.py:47: FutureWarning: The frame.append method is deprecated and will be removed from pandas in a future version. Use pandas.concat instead.\n",
      "  df_frame = df_frame.append(lreg_coefficient)\n"
     ]
    },
    {
     "data": {
      "image/png": "[encoded data removed]",
      "text/plain": [
       "<Figure size 432x288 with 2 Axes>"
      ]
     },
     "metadata": {
      "needs_background": "light"
     },
     "output_type": "display_data"
    }
   ],
   "source": [
    "from sklearn.linear_model import Ridge\n",
    "from sklearn.preprocessing import PolynomialFeatures\n",
    "from sklearn import linear_model\n",
    "from sklearn.preprocessing import PolynomialFeatures\n",
    "for i in n:\n",
    "    cData1=cData[cData['NSheets']==i]\n",
    "    X = cData1.drop(['RelativeTBR','NSheets'], axis=1)\n",
    "    y = cData1[['RelativeTBR']]\n",
    "    X_train, X_test, y_train, y_test = train_test_split(X, y, test_size=0.20, random_state=1)\n",
    "    \n",
    "    \n",
    "    # created scaler\n",
    "    scaler = StandardScaler()\n",
    "    # fit scaler on training dataset\n",
    "    scaler.fit(X_train)\n",
    "    # transform training dataset\n",
    "    X_train = scaler.transform(X_train)\n",
    "    # transform test dataset\n",
    "    X_test = scaler.transform(X_test)\n",
    "    \n",
    "    \n",
    "    poly = PolynomialFeatures(degree=2, interaction_only=True)\n",
    "    X_train2 = poly.fit_transform(X_train)\n",
    "    X_test2 = poly.fit_transform(X_test)\n",
    "\n",
    "    poly_clf = linear_model.Ridge()\n",
    "    poly_clf.fit(X_train2, y_train)\n",
    "    y_pred2 = poly_clf.predict(X_test2)\n",
    "    print(\"TRAINING : DEGREE TWO _\",i,\"_\",poly_clf.score(X_train2, y_train))\n",
    "    print(\"TEST : DEGREE TWO _ \",i,\"_\", poly_clf.score(X_test2, y_test))\n",
    "\n",
    "   \n",
    "\n",
    "    features = pd.DataFrame(poly.transform(X_train), columns=poly.get_feature_names_out(X.columns))\n",
    "   # print(i,\"____\\n\",features,\"\\n---------------------\")\n",
    "    \n",
    "    lreg_coefficient = pd.DataFrame()\n",
    "    lreg_coefficient[\"Columns\"] = features.columns\n",
    "    lreg_coefficient['Coefficient Estimate'] = pd.Series(poly_clf.coef_.flatten())\n",
    "    lreg_coefficient = lreg_coefficient.set_index('Columns').T\n",
    "    lreg_coefficient[\"NSheets\"] = i\n",
    "\n",
    "    #print(\"Degree 2 Coefficients\", lreg_coefficient)\n",
    "    if (i==2):\n",
    "        df_frame = lreg_coefficient.copy()\n",
    "    else:\n",
    "        df_frame = df_frame.append(lreg_coefficient)\n",
    "\n",
    "    \n",
    "df_frame = df_frame.rename_axis(None, axis=\"columns\")\n",
    "df_frame.reset_index(drop=True, inplace=True)\n",
    "df_frame = df_frame.set_index('NSheets')\n",
    "print(df_frame)\n",
    "sns.heatmap(df_frame, cmap='RdYlGn_r')\n",
    "plt.show()\n",
    "\n",
    "\n",
    "    \n",
    "\n",
    "    \n",
    "        "
   ]
  }
 ],
 "metadata": {
  "kernelspec": {
   "display_name": "Python 3.9.12",
   "language": "python",
   "name": "python3"
  },
  "language_info": {
   "codemirror_mode": {
    "name": "ipython",
    "version": 3
   },
   "file_extension": ".py",
   "mimetype": "text/x-python",
   "name": "python",
   "nbconvert_exporter": "python",
   "pygments_lexer": "ipython3",
   "version": "3.9.12"
  },
  "vscode": {
   "interpreter": {
    "hash": "e7e844d390c0a03c30bc1b51150a33e8c146e2c829a34d48f302038ad3113ca6"
   }
  }
 },
 "nbformat": 4,
 "nbformat_minor": 4
}
