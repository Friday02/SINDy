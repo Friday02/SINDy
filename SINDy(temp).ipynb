{
 "cells": [
  {
   "cell_type": "markdown",
   "metadata": {},
   "source": [
    "We will construct a linear model that explains the relationship a car's mileage (mpg) has with its other attributes"
   ]
  },
  {
   "cell_type": "markdown",
   "metadata": {},
   "source": [
    "## Import Libraries"
   ]
  },
  {
   "cell_type": "code",
   "execution_count": 1,
   "metadata": {},
   "outputs": [],
   "source": [
    "import numpy as np   \n",
    "from sklearn.linear_model import LinearRegression\n",
    "import pandas as pd    \n",
    "import matplotlib.pyplot as plt \n",
    "%matplotlib inline \n",
    "import seaborn as sns\n",
    "from sklearn.model_selection import train_test_split # Sklearn package's randomized data splitting function\n",
    "from numpy import asarray\n",
    "from sklearn.preprocessing import StandardScaler\n",
    "#! pip install imblearn"
   ]
  },
  {
   "cell_type": "markdown",
   "metadata": {},
   "source": [
    "## Load and review data"
   ]
  },
  {
   "cell_type": "code",
   "execution_count": 2,
   "metadata": {},
   "outputs": [
    {
     "data": {
      "text/plain": [
       "(153, 15)"
      ]
     },
     "execution_count": 2,
     "metadata": {},
     "output_type": "execute_result"
    }
   ],
   "source": [
    "cData = pd.read_csv(r\"C:\\Users\\Navnit Ashok Nair\\OneDrive\\Desktop\\SINDy\\TBC_data_study_1.csv\")  \n",
    "cData.shape"
   ]
  },
  {
   "cell_type": "code",
   "execution_count": 3,
   "metadata": {},
   "outputs": [
    {
     "data": {
      "text/html": [
       "<div>\n",
       "<style scoped>\n",
       "    .dataframe tbody tr th:only-of-type {\n",
       "        vertical-align: middle;\n",
       "    }\n",
       "\n",
       "    .dataframe tbody tr th {\n",
       "        vertical-align: top;\n",
       "    }\n",
       "\n",
       "    .dataframe thead th {\n",
       "        text-align: right;\n",
       "    }\n",
       "</style>\n",
       "<table border=\"1\" class=\"dataframe\">\n",
       "  <thead>\n",
       "    <tr style=\"text-align: right;\">\n",
       "      <th></th>\n",
       "      <th>NSheets</th>\n",
       "      <th>WidthWater</th>\n",
       "      <th>LengthGraphene</th>\n",
       "      <th>Temperature</th>\n",
       "      <th>Pressure</th>\n",
       "      <th>ContactAngle</th>\n",
       "      <th>SurfaceTension</th>\n",
       "      <th>RelativeDensity</th>\n",
       "      <th>RelativeTBR</th>\n",
       "    </tr>\n",
       "  </thead>\n",
       "  <tbody>\n",
       "    <tr>\n",
       "      <th>0</th>\n",
       "      <td>8</td>\n",
       "      <td>30</td>\n",
       "      <td>60</td>\n",
       "      <td>280</td>\n",
       "      <td>1</td>\n",
       "      <td>120</td>\n",
       "      <td>75.741886</td>\n",
       "      <td>1.487170</td>\n",
       "      <td>1.585502</td>\n",
       "    </tr>\n",
       "    <tr>\n",
       "      <th>1</th>\n",
       "      <td>8</td>\n",
       "      <td>30</td>\n",
       "      <td>60</td>\n",
       "      <td>300</td>\n",
       "      <td>1</td>\n",
       "      <td>130</td>\n",
       "      <td>72.935536</td>\n",
       "      <td>1.548031</td>\n",
       "      <td>1.610285</td>\n",
       "    </tr>\n",
       "    <tr>\n",
       "      <th>2</th>\n",
       "      <td>8</td>\n",
       "      <td>30</td>\n",
       "      <td>60</td>\n",
       "      <td>280</td>\n",
       "      <td>1</td>\n",
       "      <td>130</td>\n",
       "      <td>75.741886</td>\n",
       "      <td>1.569903</td>\n",
       "      <td>1.818463</td>\n",
       "    </tr>\n",
       "    <tr>\n",
       "      <th>3</th>\n",
       "      <td>8</td>\n",
       "      <td>30</td>\n",
       "      <td>60</td>\n",
       "      <td>360</td>\n",
       "      <td>1</td>\n",
       "      <td>130</td>\n",
       "      <td>63.308599</td>\n",
       "      <td>1.598603</td>\n",
       "      <td>1.569393</td>\n",
       "    </tr>\n",
       "    <tr>\n",
       "      <th>4</th>\n",
       "      <td>8</td>\n",
       "      <td>30</td>\n",
       "      <td>60</td>\n",
       "      <td>340</td>\n",
       "      <td>1</td>\n",
       "      <td>120</td>\n",
       "      <td>66.709466</td>\n",
       "      <td>1.599308</td>\n",
       "      <td>1.339219</td>\n",
       "    </tr>\n",
       "  </tbody>\n",
       "</table>\n",
       "</div>"
      ],
      "text/plain": [
       "   NSheets  WidthWater  LengthGraphene  Temperature  Pressure  ContactAngle  \\\n",
       "0        8          30              60          280         1           120   \n",
       "1        8          30              60          300         1           130   \n",
       "2        8          30              60          280         1           130   \n",
       "3        8          30              60          360         1           130   \n",
       "4        8          30              60          340         1           120   \n",
       "\n",
       "   SurfaceTension  RelativeDensity  RelativeTBR  \n",
       "0       75.741886         1.487170     1.585502  \n",
       "1       72.935536         1.548031     1.610285  \n",
       "2       75.741886         1.569903     1.818463  \n",
       "3       63.308599         1.598603     1.569393  \n",
       "4       66.709466         1.599308     1.339219  "
      ]
     },
     "execution_count": 3,
     "metadata": {},
     "output_type": "execute_result"
    }
   ],
   "source": [
    "cData=cData.drop(['Unnamed: 0','std_rho','std_R','RelativeDessityError','RelativeTBCError','dT'],axis=1)\n",
    "cData.head()"
   ]
  },
  {
   "cell_type": "code",
   "execution_count": 5,
   "metadata": {},
   "outputs": [],
   "source": [
    "x=cData.drop(['Temperature'],axis=1)\n",
    "Y=cData['Temperature']\n",
    "from imblearn.over_sampling import SMOTE\n",
    "sm = SMOTE(random_state = 2)\n",
    "x1, Y1 = sm.fit_resample(x, Y.ravel())\n",
    "x1['Temperature']=Y1"
   ]
  },
  {
   "cell_type": "code",
   "execution_count": 6,
   "metadata": {},
   "outputs": [
    {
     "data": {
      "text/html": [
       "<div>\n",
       "<style scoped>\n",
       "    .dataframe tbody tr th:only-of-type {\n",
       "        vertical-align: middle;\n",
       "    }\n",
       "\n",
       "    .dataframe tbody tr th {\n",
       "        vertical-align: top;\n",
       "    }\n",
       "\n",
       "    .dataframe thead th {\n",
       "        text-align: right;\n",
       "    }\n",
       "</style>\n",
       "<table border=\"1\" class=\"dataframe\">\n",
       "  <thead>\n",
       "    <tr style=\"text-align: right;\">\n",
       "      <th></th>\n",
       "      <th>NSheets</th>\n",
       "      <th>WidthWater</th>\n",
       "      <th>LengthGraphene</th>\n",
       "      <th>Pressure</th>\n",
       "      <th>ContactAngle</th>\n",
       "      <th>SurfaceTension</th>\n",
       "      <th>RelativeDensity</th>\n",
       "      <th>RelativeTBR</th>\n",
       "    </tr>\n",
       "    <tr>\n",
       "      <th>Temperature</th>\n",
       "      <th></th>\n",
       "      <th></th>\n",
       "      <th></th>\n",
       "      <th></th>\n",
       "      <th></th>\n",
       "      <th></th>\n",
       "      <th></th>\n",
       "      <th></th>\n",
       "    </tr>\n",
       "  </thead>\n",
       "  <tbody>\n",
       "    <tr>\n",
       "      <th>260</th>\n",
       "      <td>105</td>\n",
       "      <td>105</td>\n",
       "      <td>105</td>\n",
       "      <td>105</td>\n",
       "      <td>105</td>\n",
       "      <td>105</td>\n",
       "      <td>105</td>\n",
       "      <td>105</td>\n",
       "    </tr>\n",
       "    <tr>\n",
       "      <th>280</th>\n",
       "      <td>105</td>\n",
       "      <td>105</td>\n",
       "      <td>105</td>\n",
       "      <td>105</td>\n",
       "      <td>105</td>\n",
       "      <td>105</td>\n",
       "      <td>105</td>\n",
       "      <td>105</td>\n",
       "    </tr>\n",
       "    <tr>\n",
       "      <th>300</th>\n",
       "      <td>105</td>\n",
       "      <td>105</td>\n",
       "      <td>105</td>\n",
       "      <td>105</td>\n",
       "      <td>105</td>\n",
       "      <td>105</td>\n",
       "      <td>105</td>\n",
       "      <td>105</td>\n",
       "    </tr>\n",
       "    <tr>\n",
       "      <th>340</th>\n",
       "      <td>105</td>\n",
       "      <td>105</td>\n",
       "      <td>105</td>\n",
       "      <td>105</td>\n",
       "      <td>105</td>\n",
       "      <td>105</td>\n",
       "      <td>105</td>\n",
       "      <td>105</td>\n",
       "    </tr>\n",
       "    <tr>\n",
       "      <th>360</th>\n",
       "      <td>105</td>\n",
       "      <td>105</td>\n",
       "      <td>105</td>\n",
       "      <td>105</td>\n",
       "      <td>105</td>\n",
       "      <td>105</td>\n",
       "      <td>105</td>\n",
       "      <td>105</td>\n",
       "    </tr>\n",
       "  </tbody>\n",
       "</table>\n",
       "</div>"
      ],
      "text/plain": [
       "             NSheets  WidthWater  LengthGraphene  Pressure  ContactAngle  \\\n",
       "Temperature                                                                \n",
       "260              105         105             105       105           105   \n",
       "280              105         105             105       105           105   \n",
       "300              105         105             105       105           105   \n",
       "340              105         105             105       105           105   \n",
       "360              105         105             105       105           105   \n",
       "\n",
       "             SurfaceTension  RelativeDensity  RelativeTBR  \n",
       "Temperature                                                \n",
       "260                     105              105          105  \n",
       "280                     105              105          105  \n",
       "300                     105              105          105  \n",
       "340                     105              105          105  \n",
       "360                     105              105          105  "
      ]
     },
     "execution_count": 6,
     "metadata": {},
     "output_type": "execute_result"
    }
   ],
   "source": [
    "x1.groupby('Temperature').count()"
   ]
  },
  {
   "cell_type": "code",
   "execution_count": 7,
   "metadata": {},
   "outputs": [
    {
     "data": {
      "text/plain": [
       "[260, 280, 300, 340, 360]"
      ]
     },
     "execution_count": 7,
     "metadata": {},
     "output_type": "execute_result"
    }
   ],
   "source": [
    "n=x1['Temperature'].unique().tolist()\n",
    "#n=n.sort()\n",
    "n.sort()\n",
    "n"
   ]
  },
  {
   "cell_type": "code",
   "execution_count": 10,
   "metadata": {},
   "outputs": [
    {
     "name": "stdout",
     "output_type": "stream",
     "text": [
      "TRAINING : DEGREE TWO _ 260 _ 0.92178160101824\n",
      "TEST : DEGREE TWO _  260 _ 0.8134879501040395\n"
     ]
    },
    {
     "name": "stderr",
     "output_type": "stream",
     "text": [
      "C:\\Users\\Navnit Ashok Nair\\AppData\\Local\\Temp\\ipykernel_14660\\83554143.py:50: FutureWarning: The frame.append method is deprecated and will be removed from pandas in a future version. Use pandas.concat instead.\n",
      "  df_frame = df_frame.append(lreg_coefficient)\n",
      "C:\\Users\\Navnit Ashok Nair\\AppData\\Local\\Temp\\ipykernel_14660\\83554143.py:50: FutureWarning: The frame.append method is deprecated and will be removed from pandas in a future version. Use pandas.concat instead.\n",
      "  df_frame = df_frame.append(lreg_coefficient)\n"
     ]
    },
    {
     "name": "stdout",
     "output_type": "stream",
     "text": [
      "TRAINING : DEGREE TWO _ 280 _ 0.9433366298495137\n",
      "TEST : DEGREE TWO _  280 _ 0.8361064527343091\n",
      "TRAINING : DEGREE TWO _ 300 _ 0.935741795472934\n",
      "TEST : DEGREE TWO _  300 _ 0.49092389112225787\n"
     ]
    },
    {
     "name": "stderr",
     "output_type": "stream",
     "text": [
      "C:\\Users\\Navnit Ashok Nair\\AppData\\Local\\Temp\\ipykernel_14660\\83554143.py:50: FutureWarning: The frame.append method is deprecated and will be removed from pandas in a future version. Use pandas.concat instead.\n",
      "  df_frame = df_frame.append(lreg_coefficient)\n",
      "C:\\Users\\Navnit Ashok Nair\\AppData\\Local\\Temp\\ipykernel_14660\\83554143.py:50: FutureWarning: The frame.append method is deprecated and will be removed from pandas in a future version. Use pandas.concat instead.\n",
      "  df_frame = df_frame.append(lreg_coefficient)\n",
      "C:\\Users\\Navnit Ashok Nair\\AppData\\Local\\Temp\\ipykernel_14660\\83554143.py:50: FutureWarning: The frame.append method is deprecated and will be removed from pandas in a future version. Use pandas.concat instead.\n",
      "  df_frame = df_frame.append(lreg_coefficient)\n"
     ]
    },
    {
     "name": "stdout",
     "output_type": "stream",
     "text": [
      "TRAINING : DEGREE TWO _ 340 _ 0.9729314063621634\n",
      "TEST : DEGREE TWO _  340 _ 0.9600141235406736\n",
      "TRAINING : DEGREE TWO _ 360 _ 0.9756963018779465\n",
      "TEST : DEGREE TWO _  360 _ 0.9647725898387196\n",
      "               1  NSheets  WidthWater  LengthGraphene  Pressure  ContactAngle  \\\n",
      "Temperature                                                                     \n",
      "260          0.0  0.00000     0.00000        0.000000 -0.032440      0.112145   \n",
      "280          0.0  0.00000     0.00000        0.000000 -0.043923      0.296141   \n",
      "300          0.0 -0.34395     0.00094       -0.032654 -0.026268      0.197575   \n",
      "340          0.0  0.00000     0.00000        0.000000 -0.035098      0.250237   \n",
      "360          0.0  0.00000     0.00000        0.000000 -0.043484      0.245659   \n",
      "\n",
      "             SurfaceTension  RelativeDensity  NSheets WidthWater  \\\n",
      "Temperature                                                        \n",
      "260                     0.0        -0.155190            0.000000   \n",
      "280                     0.0         0.019366            0.000000   \n",
      "300                     0.0        -0.136357            0.005832   \n",
      "340                     0.0        -0.016197            0.000000   \n",
      "360                     0.0        -0.022328            0.000000   \n",
      "\n",
      "             NSheets LengthGraphene  ...  LengthGraphene Pressure  \\\n",
      "Temperature                          ...                            \n",
      "260                         0.00000  ...                 0.000000   \n",
      "280                         0.00000  ...                 0.000000   \n",
      "300                        -0.06654  ...                -0.001562   \n",
      "340                         0.00000  ...                 0.000000   \n",
      "360                         0.00000  ...                 0.000000   \n",
      "\n",
      "             LengthGraphene ContactAngle  LengthGraphene SurfaceTension  \\\n",
      "Temperature                                                               \n",
      "260                             0.000000                   0.000000e+00   \n",
      "280                             0.000000                   0.000000e+00   \n",
      "300                             0.050029                  -4.640378e-16   \n",
      "340                             0.000000                   0.000000e+00   \n",
      "360                             0.000000                   0.000000e+00   \n",
      "\n",
      "             LengthGraphene RelativeDensity  Pressure ContactAngle  \\\n",
      "Temperature                                                          \n",
      "260                                0.000000              -0.027861   \n",
      "280                                0.000000              -0.070556   \n",
      "300                                0.086476               0.034145   \n",
      "340                                0.000000              -0.056572   \n",
      "360                                0.000000              -0.043018   \n",
      "\n",
      "             Pressure SurfaceTension  Pressure RelativeDensity  \\\n",
      "Temperature                                                      \n",
      "260                    -4.609984e-16                  0.079501   \n",
      "280                    -1.248376e-15                  0.045438   \n",
      "300                    -3.732902e-16                 -0.008054   \n",
      "340                    -9.975334e-16                  0.010010   \n",
      "360                    -3.089739e-16                  0.023880   \n",
      "\n",
      "             ContactAngle SurfaceTension  ContactAngle RelativeDensity  \\\n",
      "Temperature                                                              \n",
      "260                         1.593670e-15                     -0.057652   \n",
      "280                         8.416830e-15                     -0.073424   \n",
      "300                         2.807713e-15                     -0.068182   \n",
      "340                         7.112172e-15                     -0.043724   \n",
      "360                         1.745510e-15                     -0.047336   \n",
      "\n",
      "             SurfaceTension RelativeDensity  \n",
      "Temperature                                  \n",
      "260                           -2.205389e-15  \n",
      "280                            5.504115e-16  \n",
      "300                           -1.937749e-15  \n",
      "340                           -4.603549e-16  \n",
      "360                           -1.586507e-16  \n",
      "\n",
      "[5 rows x 29 columns]\n"
     ]
    },
    {
     "data": {
      "image/png": "[encoded data removed]",
      "text/plain": [
       "<Figure size 432x288 with 2 Axes>"
      ]
     },
     "metadata": {
      "needs_background": "light"
     },
     "output_type": "display_data"
    }
   ],
   "source": [
    "from sklearn.linear_model import Ridge\n",
    "from sklearn.preprocessing import PolynomialFeatures\n",
    "from sklearn import linear_model\n",
    "from sklearn.preprocessing import PolynomialFeatures\n",
    "from imblearn.over_sampling import SMOTE\n",
    "df_frame = pd.DataFrame()\n",
    "for i in n:\n",
    "    cData1=x1[x1['Temperature']==i]\n",
    "    X = cData1.drop(['RelativeTBR','Temperature'], axis=1)\n",
    "    y = cData1[['RelativeTBR']]\n",
    "    X_train, X_test, y_train, y_test = train_test_split(X, y, test_size=0.20, random_state=1)\n",
    "    \n",
    "    \n",
    "    # created scaler\n",
    "    scaler = StandardScaler()\n",
    "    # fit scaler on training dataset\n",
    "    scaler.fit(X_train)\n",
    "    # transform training dataset\n",
    "    X_train = scaler.transform(X_train)\n",
    "    # transform test dataset\n",
    "    X_test = scaler.transform(X_test)\n",
    "    \n",
    "    \n",
    "    poly = PolynomialFeatures(degree=2, interaction_only=True)\n",
    "    X_train2 = poly.fit_transform(X_train)\n",
    "    X_test2 = poly.fit_transform(X_test)\n",
    "    \n",
    "\n",
    "    poly_clf = linear_model.Ridge()\n",
    "    poly_clf.fit(X_train2, y_train)\n",
    "    y_pred2 = poly_clf.predict(X_test2)\n",
    "    print(\"TRAINING : DEGREE TWO _\",i,\"_\",poly_clf.score(X_train2, y_train))\n",
    "    print(\"TEST : DEGREE TWO _ \",i,\"_\", poly_clf.score(X_test2, y_test))\n",
    "\n",
    "   \n",
    "\n",
    "    features = pd.DataFrame(poly.transform(X_train), columns=poly.get_feature_names_out(X.columns))\n",
    "   # print(i,\"____\\n\",features,\"\\n---------------------\")\n",
    "    \n",
    "    lreg_coefficient = pd.DataFrame()\n",
    "    lreg_coefficient[\"Columns\"] = features.columns\n",
    "    lreg_coefficient['Coefficient Estimate'] = pd.Series(poly_clf.coef_.flatten())\n",
    "    lreg_coefficient = lreg_coefficient.set_index('Columns').T\n",
    "    lreg_coefficient[\"Temperature\"] = i\n",
    "\n",
    "    #print(\"Degree 2 Coefficients\", lreg_coefficient)\n",
    "    if (i==2):\n",
    "        df_frame = lreg_coefficient.copy()\n",
    "    else:\n",
    "        df_frame = df_frame.append(lreg_coefficient)\n",
    "\n",
    "    \n",
    "df_frame = df_frame.rename_axis(None, axis=\"columns\")\n",
    "df_frame.reset_index(drop=True, inplace=True)\n",
    "df_frame = df_frame.set_index('Temperature')\n",
    "print(df_frame)\n",
    "sns.heatmap(df_frame, cmap='RdYlGn_r')\n",
    "plt.show()\n",
    "\n",
    "\n",
    "    \n",
    "\n",
    "    \n",
    "        "
   ]
  }
 ],
 "metadata": {
  "kernelspec": {
   "display_name": "Python 3.9.12",
   "language": "python",
   "name": "python3"
  },
  "language_info": {
   "codemirror_mode": {
    "name": "ipython",
    "version": 3
   },
   "file_extension": ".py",
   "mimetype": "text/x-python",
   "name": "python",
   "nbconvert_exporter": "python",
   "pygments_lexer": "ipython3",
   "version": "3.9.12"
  },
  "vscode": {
   "interpreter": {
    "hash": "e7e844d390c0a03c30bc1b51150a33e8c146e2c829a34d48f302038ad3113ca6"
   }
  }
 },
 "nbformat": 4,
 "nbformat_minor": 4
}
