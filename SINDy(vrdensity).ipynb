{
 "cells": [
  {
   "cell_type": "markdown",
   "metadata": {},
   "source": [
    "We will construct a linear model that explains the relationship a car's mileage (mpg) has with its other attributes"
   ]
  },
  {
   "cell_type": "markdown",
   "metadata": {},
   "source": [
    "## Import Libraries"
   ]
  },
  {
   "cell_type": "code",
   "execution_count": 19,
   "metadata": {},
   "outputs": [
    {
     "name": "stdout",
     "output_type": "stream",
     "text": [
      "Collecting feature_engine\n",
      "  Downloading feature_engine-1.5.2-py2.py3-none-any.whl (290 kB)\n",
      "Requirement already satisfied: numpy>=1.18.2 in c:\\users\\navnit ashok nair\\anaconda 3 new\\lib\\site-packages (from feature_engine) (1.21.5)\n",
      "Requirement already satisfied: pandas>=1.0.3 in c:\\users\\navnit ashok nair\\anaconda 3 new\\lib\\site-packages (from feature_engine) (1.4.2)\n",
      "Requirement already satisfied: statsmodels>=0.11.1 in c:\\users\\navnit ashok nair\\anaconda 3 new\\lib\\site-packages (from feature_engine) (0.13.2)\n",
      "Requirement already satisfied: scipy>=1.4.1 in c:\\users\\navnit ashok nair\\anaconda 3 new\\lib\\site-packages (from feature_engine) (1.7.3)\n",
      "Requirement already satisfied: scikit-learn>=1.0.0 in c:\\users\\navnit ashok nair\\anaconda 3 new\\lib\\site-packages (from feature_engine) (1.0.2)\n",
      "Requirement already satisfied: pytz>=2020.1 in c:\\users\\navnit ashok nair\\anaconda 3 new\\lib\\site-packages (from pandas>=1.0.3->feature_engine) (2021.3)\n",
      "Requirement already satisfied: python-dateutil>=2.8.1 in c:\\users\\navnit ashok nair\\anaconda 3 new\\lib\\site-packages (from pandas>=1.0.3->feature_engine) (2.8.2)\n",
      "Requirement already satisfied: six>=1.5 in c:\\users\\navnit ashok nair\\anaconda 3 new\\lib\\site-packages (from python-dateutil>=2.8.1->pandas>=1.0.3->feature_engine) (1.16.0)\n",
      "Requirement already satisfied: joblib>=0.11 in c:\\users\\navnit ashok nair\\anaconda 3 new\\lib\\site-packages (from scikit-learn>=1.0.0->feature_engine) (1.2.0)\n",
      "Requirement already satisfied: threadpoolctl>=2.0.0 in c:\\users\\navnit ashok nair\\anaconda 3 new\\lib\\site-packages (from scikit-learn>=1.0.0->feature_engine) (2.2.0)\n",
      "Requirement already satisfied: patsy>=0.5.2 in c:\\users\\navnit ashok nair\\anaconda 3 new\\lib\\site-packages (from statsmodels>=0.11.1->feature_engine) (0.5.2)\n",
      "Requirement already satisfied: packaging>=21.3 in c:\\users\\navnit ashok nair\\anaconda 3 new\\lib\\site-packages (from statsmodels>=0.11.1->feature_engine) (21.3)\n",
      "Requirement already satisfied: pyparsing!=3.0.5,>=2.0.2 in c:\\users\\navnit ashok nair\\anaconda 3 new\\lib\\site-packages (from packaging>=21.3->statsmodels>=0.11.1->feature_engine) (3.0.4)\n",
      "Installing collected packages: feature-engine\n",
      "Successfully installed feature-engine-1.5.2\n"
     ]
    }
   ],
   "source": [
    "import numpy as np   \n",
    "from sklearn.linear_model import LinearRegression\n",
    "import pandas as pd    \n",
    "import matplotlib.pyplot as plt \n",
    "%matplotlib inline \n",
    "import seaborn as sns\n",
    "from sklearn.model_selection import train_test_split # Sklearn package's randomized data splitting function\n",
    "from numpy import asarray\n",
    "from sklearn.preprocessing import StandardScaler\n",
    "from sklearn.preprocessing import KBinsDiscretizer\n",
    "#! pip install imblearn\n",
    "! pip install feature_engine\n",
    "from feature_engine.discretisation import EqualWidthDiscretiser"
   ]
  },
  {
   "cell_type": "markdown",
   "metadata": {},
   "source": [
    "## Load and review data"
   ]
  },
  {
   "cell_type": "code",
   "execution_count": 20,
   "metadata": {},
   "outputs": [
    {
     "data": {
      "text/plain": [
       "(153, 15)"
      ]
     },
     "execution_count": 20,
     "metadata": {},
     "output_type": "execute_result"
    }
   ],
   "source": [
    "cData = pd.read_csv(r\"C:\\Users\\Navnit Ashok Nair\\OneDrive\\Desktop\\SINDy\\TBC_data_study_1.csv\")  \n",
    "cData.shape"
   ]
  },
  {
   "cell_type": "code",
   "execution_count": 21,
   "metadata": {},
   "outputs": [
    {
     "data": {
      "text/html": [
       "<div>\n",
       "<style scoped>\n",
       "    .dataframe tbody tr th:only-of-type {\n",
       "        vertical-align: middle;\n",
       "    }\n",
       "\n",
       "    .dataframe tbody tr th {\n",
       "        vertical-align: top;\n",
       "    }\n",
       "\n",
       "    .dataframe thead th {\n",
       "        text-align: right;\n",
       "    }\n",
       "</style>\n",
       "<table border=\"1\" class=\"dataframe\">\n",
       "  <thead>\n",
       "    <tr style=\"text-align: right;\">\n",
       "      <th></th>\n",
       "      <th>NSheets</th>\n",
       "      <th>WidthWater</th>\n",
       "      <th>LengthGraphene</th>\n",
       "      <th>Temperature</th>\n",
       "      <th>Pressure</th>\n",
       "      <th>ContactAngle</th>\n",
       "      <th>SurfaceTension</th>\n",
       "      <th>RelativeDensity</th>\n",
       "      <th>RelativeTBR</th>\n",
       "    </tr>\n",
       "  </thead>\n",
       "  <tbody>\n",
       "    <tr>\n",
       "      <th>0</th>\n",
       "      <td>8</td>\n",
       "      <td>30</td>\n",
       "      <td>60</td>\n",
       "      <td>280</td>\n",
       "      <td>1</td>\n",
       "      <td>120</td>\n",
       "      <td>75.741886</td>\n",
       "      <td>1.487170</td>\n",
       "      <td>1.585502</td>\n",
       "    </tr>\n",
       "    <tr>\n",
       "      <th>1</th>\n",
       "      <td>8</td>\n",
       "      <td>30</td>\n",
       "      <td>60</td>\n",
       "      <td>300</td>\n",
       "      <td>1</td>\n",
       "      <td>130</td>\n",
       "      <td>72.935536</td>\n",
       "      <td>1.548031</td>\n",
       "      <td>1.610285</td>\n",
       "    </tr>\n",
       "    <tr>\n",
       "      <th>2</th>\n",
       "      <td>8</td>\n",
       "      <td>30</td>\n",
       "      <td>60</td>\n",
       "      <td>280</td>\n",
       "      <td>1</td>\n",
       "      <td>130</td>\n",
       "      <td>75.741886</td>\n",
       "      <td>1.569903</td>\n",
       "      <td>1.818463</td>\n",
       "    </tr>\n",
       "    <tr>\n",
       "      <th>3</th>\n",
       "      <td>8</td>\n",
       "      <td>30</td>\n",
       "      <td>60</td>\n",
       "      <td>360</td>\n",
       "      <td>1</td>\n",
       "      <td>130</td>\n",
       "      <td>63.308599</td>\n",
       "      <td>1.598603</td>\n",
       "      <td>1.569393</td>\n",
       "    </tr>\n",
       "    <tr>\n",
       "      <th>4</th>\n",
       "      <td>8</td>\n",
       "      <td>30</td>\n",
       "      <td>60</td>\n",
       "      <td>340</td>\n",
       "      <td>1</td>\n",
       "      <td>120</td>\n",
       "      <td>66.709466</td>\n",
       "      <td>1.599308</td>\n",
       "      <td>1.339219</td>\n",
       "    </tr>\n",
       "  </tbody>\n",
       "</table>\n",
       "</div>"
      ],
      "text/plain": [
       "   NSheets  WidthWater  LengthGraphene  Temperature  Pressure  ContactAngle  \\\n",
       "0        8          30              60          280         1           120   \n",
       "1        8          30              60          300         1           130   \n",
       "2        8          30              60          280         1           130   \n",
       "3        8          30              60          360         1           130   \n",
       "4        8          30              60          340         1           120   \n",
       "\n",
       "   SurfaceTension  RelativeDensity  RelativeTBR  \n",
       "0       75.741886         1.487170     1.585502  \n",
       "1       72.935536         1.548031     1.610285  \n",
       "2       75.741886         1.569903     1.818463  \n",
       "3       63.308599         1.598603     1.569393  \n",
       "4       66.709466         1.599308     1.339219  "
      ]
     },
     "execution_count": 21,
     "metadata": {},
     "output_type": "execute_result"
    }
   ],
   "source": [
    "cData=cData.drop(['Unnamed: 0','std_rho','std_R','RelativeDessityError','RelativeTBCError','dT'],axis=1)\n",
    "cData.head()"
   ]
  },
  {
   "cell_type": "code",
   "execution_count": 22,
   "metadata": {},
   "outputs": [],
   "source": [
    "variables = ['RelativeDensity']\n",
    "disc = EqualWidthDiscretiser(bins=8, variables=variables, return_boundaries=True)\n",
    "disc.fit(cData)\n",
    "x1 =disc.transform(cData)\n"
   ]
  },
  {
   "cell_type": "code",
   "execution_count": 23,
   "metadata": {},
   "outputs": [
    {
     "data": {
      "text/plain": [
       "['(-inf, 1.825]',\n",
       " '(1.825, 2.163]',\n",
       " '(2.163, 2.502]',\n",
       " '(2.502, 2.84]',\n",
       " '(2.84, 3.178]',\n",
       " '(3.178, 3.516]',\n",
       " '(3.516, 3.854]',\n",
       " '(3.854, inf]']"
      ]
     },
     "execution_count": 23,
     "metadata": {},
     "output_type": "execute_result"
    }
   ],
   "source": [
    "n=x1['RelativeDensity'].unique().tolist()\n",
    "#n=n.sort()\n",
    "n.sort()\n",
    "n"
   ]
  },
  {
   "cell_type": "code",
   "execution_count": 24,
   "metadata": {},
   "outputs": [
    {
     "name": "stdout",
     "output_type": "stream",
     "text": [
      "TRAINING : DEGREE TWO _ (-inf, 1.825] _ 0.9827765980868044\n",
      "TEST : DEGREE TWO _  (-inf, 1.825] _ 0.7962650006171724\n"
     ]
    },
    {
     "name": "stderr",
     "output_type": "stream",
     "text": [
      "C:\\Users\\Navnit Ashok Nair\\AppData\\Local\\Temp\\ipykernel_8660\\2167690463.py:50: FutureWarning: The frame.append method is deprecated and will be removed from pandas in a future version. Use pandas.concat instead.\n",
      "  df_frame = df_frame.append(lreg_coefficient)\n",
      "C:\\Users\\Navnit Ashok Nair\\AppData\\Local\\Temp\\ipykernel_8660\\2167690463.py:50: FutureWarning: The frame.append method is deprecated and will be removed from pandas in a future version. Use pandas.concat instead.\n",
      "  df_frame = df_frame.append(lreg_coefficient)\n",
      "C:\\Users\\Navnit Ashok Nair\\AppData\\Local\\Temp\\ipykernel_8660\\2167690463.py:50: FutureWarning: The frame.append method is deprecated and will be removed from pandas in a future version. Use pandas.concat instead.\n",
      "  df_frame = df_frame.append(lreg_coefficient)\n",
      "C:\\Users\\Navnit Ashok Nair\\AppData\\Local\\Temp\\ipykernel_8660\\2167690463.py:50: FutureWarning: The frame.append method is deprecated and will be removed from pandas in a future version. Use pandas.concat instead.\n",
      "  df_frame = df_frame.append(lreg_coefficient)\n",
      "c:\\Users\\Navnit Ashok Nair\\anaconda 3 new\\lib\\site-packages\\sklearn\\metrics\\_regression.py:796: UndefinedMetricWarning: R^2 score is not well-defined with less than two samples.\n",
      "  warnings.warn(msg, UndefinedMetricWarning)\n",
      "C:\\Users\\Navnit Ashok Nair\\AppData\\Local\\Temp\\ipykernel_8660\\2167690463.py:50: FutureWarning: The frame.append method is deprecated and will be removed from pandas in a future version. Use pandas.concat instead.\n",
      "  df_frame = df_frame.append(lreg_coefficient)\n",
      "c:\\Users\\Navnit Ashok Nair\\anaconda 3 new\\lib\\site-packages\\sklearn\\metrics\\_regression.py:796: UndefinedMetricWarning: R^2 score is not well-defined with less than two samples.\n",
      "  warnings.warn(msg, UndefinedMetricWarning)\n",
      "C:\\Users\\Navnit Ashok Nair\\AppData\\Local\\Temp\\ipykernel_8660\\2167690463.py:50: FutureWarning: The frame.append method is deprecated and will be removed from pandas in a future version. Use pandas.concat instead.\n",
      "  df_frame = df_frame.append(lreg_coefficient)\n",
      "c:\\Users\\Navnit Ashok Nair\\anaconda 3 new\\lib\\site-packages\\sklearn\\metrics\\_regression.py:796: UndefinedMetricWarning: R^2 score is not well-defined with less than two samples.\n",
      "  warnings.warn(msg, UndefinedMetricWarning)\n",
      "C:\\Users\\Navnit Ashok Nair\\AppData\\Local\\Temp\\ipykernel_8660\\2167690463.py:50: FutureWarning: The frame.append method is deprecated and will be removed from pandas in a future version. Use pandas.concat instead.\n",
      "  df_frame = df_frame.append(lreg_coefficient)\n",
      "c:\\Users\\Navnit Ashok Nair\\anaconda 3 new\\lib\\site-packages\\sklearn\\metrics\\_regression.py:796: UndefinedMetricWarning: R^2 score is not well-defined with less than two samples.\n",
      "  warnings.warn(msg, UndefinedMetricWarning)\n",
      "c:\\Users\\Navnit Ashok Nair\\anaconda 3 new\\lib\\site-packages\\sklearn\\metrics\\_regression.py:796: UndefinedMetricWarning: R^2 score is not well-defined with less than two samples.\n",
      "  warnings.warn(msg, UndefinedMetricWarning)\n",
      "C:\\Users\\Navnit Ashok Nair\\AppData\\Local\\Temp\\ipykernel_8660\\2167690463.py:50: FutureWarning: The frame.append method is deprecated and will be removed from pandas in a future version. Use pandas.concat instead.\n",
      "  df_frame = df_frame.append(lreg_coefficient)\n"
     ]
    },
    {
     "name": "stdout",
     "output_type": "stream",
     "text": [
      "TRAINING : DEGREE TWO _ (1.825, 2.163] _ 0.9430322585576832\n",
      "TEST : DEGREE TWO _  (1.825, 2.163] _ 0.8139567206205603\n",
      "TRAINING : DEGREE TWO _ (2.163, 2.502] _ 0.8986613344580398\n",
      "TEST : DEGREE TWO _  (2.163, 2.502] _ 0.627598643561683\n",
      "TRAINING : DEGREE TWO _ (2.502, 2.84] _ 0.9487865970256024\n",
      "TEST : DEGREE TWO _  (2.502, 2.84] _ -9.737736881975927\n",
      "TRAINING : DEGREE TWO _ (2.84, 3.178] _ 0.96\n",
      "TEST : DEGREE TWO _  (2.84, 3.178] _ nan\n",
      "TRAINING : DEGREE TWO _ (3.178, 3.516] _ 0.9795918367346937\n",
      "TEST : DEGREE TWO _  (3.178, 3.516] _ nan\n",
      "TRAINING : DEGREE TWO _ (3.516, 3.854] _ 0.9600000000000064\n",
      "TEST : DEGREE TWO _  (3.516, 3.854] _ nan\n",
      "TRAINING : DEGREE TWO _ (3.854, inf] _ nan\n",
      "TEST : DEGREE TWO _  (3.854, inf] _ nan\n",
      "                   1   NSheets  WidthWater  LengthGraphene  Temperature  \\\n",
      "RelativeDensity                                                           \n",
      "(-inf, 1.825]    0.0 -0.074724    0.000000       -0.022084    -0.061747   \n",
      "(1.825, 2.163]   0.0 -0.162392   -0.005861       -0.025776    -0.026377   \n",
      "(2.163, 2.502]   0.0 -0.097455   -0.025422       -0.014106    -0.012255   \n",
      "(2.502, 2.84]    0.0 -0.035853    0.025204       -0.000462    -0.045130   \n",
      "(2.84, 3.178]    0.0  0.000000    0.000000        0.000000    -0.008178   \n",
      "(3.178, 3.516]   0.0  0.000000    0.000000        0.000000    -0.032174   \n",
      "(3.516, 3.854]   0.0  0.000000    0.000000        0.000000    -0.000558   \n",
      "(3.854, inf]     0.0  0.000000    0.000000        0.000000     0.000000   \n",
      "\n",
      "                 Pressure  ContactAngle  SurfaceTension  NSheets WidthWater  \\\n",
      "RelativeDensity                                                               \n",
      "(-inf, 1.825]    0.000000      0.159382        0.057868            0.000000   \n",
      "(1.825, 2.163]  -0.023739      0.106317        0.026125           -0.018980   \n",
      "(2.163, 2.502]  -0.025076      0.104093        0.011911            0.015012   \n",
      "(2.502, 2.84]   -0.011244      0.038459        0.043217           -0.017716   \n",
      "(2.84, 3.178]    0.000000      0.000000        0.008178            0.000000   \n",
      "(3.178, 3.516]   0.000000     -0.032174        0.032174            0.000000   \n",
      "(3.516, 3.854]   0.000000      0.000000        0.000558            0.000000   \n",
      "(3.854, inf]     0.000000      0.000000        0.000000            0.000000   \n",
      "\n",
      "                 NSheets LengthGraphene  ...  LengthGraphene Temperature  \\\n",
      "RelativeDensity                          ...                               \n",
      "(-inf, 1.825]                  0.019221  ...                   -0.015140   \n",
      "(1.825, 2.163]                -0.008290  ...                   -0.001960   \n",
      "(2.163, 2.502]                -0.009398  ...                   -0.004886   \n",
      "(2.502, 2.84]                 -0.001810  ...                    0.006553   \n",
      "(2.84, 3.178]                  0.000000  ...                    0.000000   \n",
      "(3.178, 3.516]                 0.000000  ...                    0.000000   \n",
      "(3.516, 3.854]                 0.000000  ...                    0.000000   \n",
      "(3.854, inf]                   0.000000  ...                    0.000000   \n",
      "\n",
      "                 LengthGraphene Pressure  LengthGraphene ContactAngle  \\\n",
      "RelativeDensity                                                         \n",
      "(-inf, 1.825]                   0.000000                     0.094871   \n",
      "(1.825, 2.163]                 -0.009661                     0.027585   \n",
      "(2.163, 2.502]                 -0.006159                     0.036303   \n",
      "(2.502, 2.84]                   0.001896                    -0.005998   \n",
      "(2.84, 3.178]                   0.000000                     0.000000   \n",
      "(3.178, 3.516]                  0.000000                     0.000000   \n",
      "(3.516, 3.854]                  0.000000                     0.000000   \n",
      "(3.854, inf]                    0.000000                     0.000000   \n",
      "\n",
      "                 LengthGraphene SurfaceTension  Temperature Pressure  \\\n",
      "RelativeDensity                                                        \n",
      "(-inf, 1.825]                         0.012841              0.000000   \n",
      "(1.825, 2.163]                        0.000993             -0.002339   \n",
      "(2.163, 2.502]                        0.004409             -0.007270   \n",
      "(2.502, 2.84]                        -0.006290              0.038948   \n",
      "(2.84, 3.178]                         0.000000              0.000000   \n",
      "(3.178, 3.516]                        0.000000              0.000000   \n",
      "(3.516, 3.854]                        0.000000              0.000000   \n",
      "(3.854, inf]                          0.000000              0.000000   \n",
      "\n",
      "                 Temperature ContactAngle  Temperature SurfaceTension  \\\n",
      "RelativeDensity                                                         \n",
      "(-inf, 1.825]                   -0.004488               -5.166548e-02   \n",
      "(1.825, 2.163]                   0.002106                5.969764e-03   \n",
      "(2.163, 2.502]                   0.023186               -1.082628e-02   \n",
      "(2.502, 2.84]                   -0.017517               -8.063688e-03   \n",
      "(2.84, 3.178]                    0.000000               -5.901929e-18   \n",
      "(3.178, 3.516]                   0.000000                0.000000e+00   \n",
      "(3.516, 3.854]                   0.000000               -1.145304e-18   \n",
      "(3.854, inf]                     0.000000                0.000000e+00   \n",
      "\n",
      "                 Pressure ContactAngle  Pressure SurfaceTension  \\\n",
      "RelativeDensity                                                   \n",
      "(-inf, 1.825]                 0.000000                 0.000000   \n",
      "(1.825, 2.163]                0.009125                -0.009000   \n",
      "(2.163, 2.502]                0.079676                 0.007491   \n",
      "(2.502, 2.84]                 0.027906                -0.039136   \n",
      "(2.84, 3.178]                 0.000000                 0.000000   \n",
      "(3.178, 3.516]                0.000000                 0.000000   \n",
      "(3.516, 3.854]                0.000000                 0.000000   \n",
      "(3.854, inf]                  0.000000                 0.000000   \n",
      "\n",
      "                 ContactAngle SurfaceTension  \n",
      "RelativeDensity                               \n",
      "(-inf, 1.825]                       0.001625  \n",
      "(1.825, 2.163]                     -0.007861  \n",
      "(2.163, 2.502]                     -0.018774  \n",
      "(2.502, 2.84]                       0.014413  \n",
      "(2.84, 3.178]                       0.000000  \n",
      "(3.178, 3.516]                      0.000000  \n",
      "(3.516, 3.854]                      0.000000  \n",
      "(3.854, inf]                        0.000000  \n",
      "\n",
      "[8 rows x 29 columns]\n"
     ]
    },
    {
     "data": {
      "image/png": "[encoded data removed]",
      "text/plain": [
       "<Figure size 432x288 with 2 Axes>"
      ]
     },
     "metadata": {
      "needs_background": "light"
     },
     "output_type": "display_data"
    }
   ],
   "source": [
    "from sklearn.linear_model import Ridge\n",
    "from sklearn.preprocessing import PolynomialFeatures\n",
    "from sklearn import linear_model\n",
    "from sklearn.preprocessing import PolynomialFeatures\n",
    "from imblearn.over_sampling import SMOTE\n",
    "df_frame = pd.DataFrame()\n",
    "for i in n:\n",
    "    cData1=x1[x1['RelativeDensity']==i]\n",
    "    X = cData1.drop(['RelativeTBR','RelativeDensity'], axis=1)\n",
    "    y = cData1[['RelativeTBR']]\n",
    "    X_train, X_test, y_train, y_test = train_test_split(X, y, test_size=0.20, random_state=1)\n",
    "    \n",
    "    \n",
    "    # created scaler\n",
    "    scaler = StandardScaler()\n",
    "    # fit scaler on training dataset\n",
    "    scaler.fit(X_train)\n",
    "    # transform training dataset\n",
    "    X_train = scaler.transform(X_train)\n",
    "    # transform test dataset\n",
    "    X_test = scaler.transform(X_test)\n",
    "    \n",
    "    \n",
    "    poly = PolynomialFeatures(degree=2, interaction_only=True)\n",
    "    X_train2 = poly.fit_transform(X_train)\n",
    "    X_test2 = poly.fit_transform(X_test)\n",
    "    \n",
    "\n",
    "    poly_clf = linear_model.Ridge()\n",
    "    poly_clf.fit(X_train2, y_train)\n",
    "    y_pred2 = poly_clf.predict(X_test2)\n",
    "    print(\"TRAINING : DEGREE TWO _\",i,\"_\",poly_clf.score(X_train2, y_train))\n",
    "    print(\"TEST : DEGREE TWO _ \",i,\"_\", poly_clf.score(X_test2, y_test))\n",
    "\n",
    "   \n",
    "\n",
    "    features = pd.DataFrame(poly.transform(X_train), columns=poly.get_feature_names_out(X.columns))\n",
    "   # print(i,\"____\\n\",features,\"\\n---------------------\")\n",
    "    \n",
    "    lreg_coefficient = pd.DataFrame()\n",
    "    lreg_coefficient[\"Columns\"] = features.columns\n",
    "    lreg_coefficient['Coefficient Estimate'] = pd.Series(poly_clf.coef_.flatten())\n",
    "    lreg_coefficient = lreg_coefficient.set_index('Columns').T\n",
    "    lreg_coefficient[\"RelativeDensity\"] = i\n",
    "\n",
    "    #print(\"Degree 2 Coefficients\", lreg_coefficient)\n",
    "    if (i==2):\n",
    "        df_frame = lreg_coefficient.copy()\n",
    "    else:\n",
    "        df_frame = df_frame.append(lreg_coefficient)\n",
    "\n",
    "    \n",
    "df_frame = df_frame.rename_axis(None, axis=\"columns\")\n",
    "df_frame.reset_index(drop=True, inplace=True)\n",
    "df_frame = df_frame.set_index('RelativeDensity')\n",
    "print(df_frame)\n",
    "sns.heatmap(df_frame, cmap='RdYlGn_r')\n",
    "plt.show()\n",
    "\n",
    "\n",
    "    \n",
    "\n",
    "    \n",
    "        "
   ]
  }
 ],
 "metadata": {
  "kernelspec": {
   "display_name": "Python 3.9.12",
   "language": "python",
   "name": "python3"
  },
  "language_info": {
   "codemirror_mode": {
    "name": "ipython",
    "version": 3
   },
   "file_extension": ".py",
   "mimetype": "text/x-python",
   "name": "python",
   "nbconvert_exporter": "python",
   "pygments_lexer": "ipython3",
   "version": "3.9.12"
  },
  "vscode": {
   "interpreter": {
    "hash": "e7e844d390c0a03c30bc1b51150a33e8c146e2c829a34d48f302038ad3113ca6"
   }
  }
 },
 "nbformat": 4,
 "nbformat_minor": 4
}
